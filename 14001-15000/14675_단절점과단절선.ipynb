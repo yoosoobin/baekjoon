{
 "cells": [
  {
   "cell_type": "code",
   "execution_count": 5,
   "metadata": {},
   "outputs": [
    {
     "name": "stdout",
     "output_type": "stream",
     "text": [
      "[[], [], [], [], [], []]\n",
      "[[], [2], [1, 3], [2, 4], [3, 5], [4]]\n",
      "no\n",
      "yes\n",
      "yes\n",
      "yes\n"
     ]
    }
   ],
   "source": [
    "# 14675_단절점과 단절선\n",
    "\n",
    "import sys\n",
    "n = int(input())\n",
    "tree = [[] for _ in range(n+1)]\n",
    "print(tree)\n",
    "for _ in range(n-1):\n",
    "    a,b = map(int,input().split())\n",
    "    # a,b = map(int,sys.stdin.readline().split())\n",
    "    tree[a].append(b)\n",
    "    tree[b].append(a)\n",
    "\n",
    "print(tree)\n",
    "\n",
    "q = int(input())\n",
    "for _ in range(q):\n",
    "    t,k = map(int,input().split())\n",
    "    if t == 1:\n",
    "        if (len(tree[k]) < 2):\n",
    "            print(\"no\")\n",
    "        else:\n",
    "            print(\"yes\")\n",
    "\n",
    "    elif t == 2:\n",
    "        print(\"yes\")"
   ]
  },
  {
   "cell_type": "code",
   "execution_count": 6,
   "metadata": {},
   "outputs": [],
   "source": [
    "# # tree 리스트에 자신과 연결된 노드 번호를 각각 추가시켜주었다.\n",
    "\n",
    "# 일단 모든 간선은 단절선이다. 왜냐하면 모든 간선은 노드 2개를 연결하고 있어서 간선을 지우면 트리가 무조건 최소 2개로 나뉘기 때문이다. 따라서 t가 2일 때는 무조건 yes를 출력하게 했다. \n",
    "\n",
    "# 자식이 하나밖에 없는 루트이거나 리프노드일 때 해당 정점을 제거해도 트리가 2개 이상으로 나뉘지 않으므로 이때는 이 정점이 단절점이 아니다. 따라서 tree리스트에서 해당 노드 번호를 인덱스로 하는 부분에 들어있는 숫자의 개수가 1개 이하이면 단절점이 아니기 때문에 no를 출력해줬다.  "
   ]
  },
  {
   "cell_type": "code",
   "execution_count": null,
   "metadata": {},
   "outputs": [],
   "source": []
  }
 ],
 "metadata": {
  "kernelspec": {
   "display_name": "Python 3.8.5 ('tensorflow')",
   "language": "python",
   "name": "python3"
  },
  "language_info": {
   "codemirror_mode": {
    "name": "ipython",
    "version": 3
   },
   "file_extension": ".py",
   "mimetype": "text/x-python",
   "name": "python",
   "nbconvert_exporter": "python",
   "pygments_lexer": "ipython3",
   "version": "3.8.5"
  },
  "orig_nbformat": 4,
  "vscode": {
   "interpreter": {
    "hash": "7443343fc13dfb4d51bf4023425792615950761096514cd23dc90e7cbd3554e7"
   }
  }
 },
 "nbformat": 4,
 "nbformat_minor": 2
}
