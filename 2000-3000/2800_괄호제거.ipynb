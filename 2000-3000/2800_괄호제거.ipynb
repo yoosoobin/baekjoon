{
 "cells": [
  {
   "cell_type": "code",
   "execution_count": 7,
   "metadata": {},
   "outputs": [
    {
     "name": "stdout",
     "output_type": "stream",
     "text": [
      "[(3, 5), (0, 6)]\n",
      "2\n",
      "j ((3, 5),)\n",
      "k (3, 5)\n",
      "j ((0, 6),)\n",
      "k (0, 6)\n",
      "j ((3, 5), (0, 6))\n",
      "k (3, 5)\n",
      "k (0, 6)\n",
      "(0/0)\n",
      "0/(0)\n",
      "0/0\n"
     ]
    }
   ],
   "source": [
    "# 괄호 제거 (2800)\n",
    "# https://www.acmicpc.net/problem/2800\n",
    "# https://hyem-study.tistory.com/40   (combination 관련 설명)\n",
    "\n",
    "import sys\n",
    "from itertools import combinations\n",
    "\n",
    "# input = sys.stdin.readline\n",
    "# s = input().rstrip()\n",
    "\n",
    "str ='(0/(0))'\n",
    "n = list(str)\n",
    "answer = set()\n",
    "stack = []\n",
    "temp = []\n",
    "\n",
    "# 반복문을 통해 괄호의 시작점과 끝점을 저장\n",
    "for idx, word in enumerate(n):\n",
    "    if word == \"(\":\n",
    "        stack.append(idx)\n",
    "    elif word == \")\":\n",
    "        temp.append((stack.pop(), idx))\n",
    "\n",
    "print(temp)\n",
    "print(len(temp))\n",
    "for i in range(1, len(temp) + 1):\n",
    "    c = combinations(temp, i) # combinations을 통해 모든 경우의 수를 확인\n",
    "    \n",
    "    # 반복문을 통해 경우의 수를 확인\n",
    "    for j in c:\n",
    "        target = list(n) #str을 리스트로 변환, target reset\n",
    "\n",
    "        # 괄호 제거\n",
    "        print('j',j)\n",
    "        for k in j:\n",
    "            print('k',k)\n",
    "            target[k[0]] = \"\"\n",
    "            target[k[1]] = \"\"\n",
    "\n",
    "        answer.add(''.join(target))\n",
    "\n",
    "for ans in sorted(list(answer)):\n",
    "    print(ans)"
   ]
  },
  {
   "cell_type": "code",
   "execution_count": null,
   "metadata": {},
   "outputs": [],
   "source": []
  }
 ],
 "metadata": {
  "kernelspec": {
   "display_name": "Python 3.8.5 ('tensorflow')",
   "language": "python",
   "name": "python3"
  },
  "language_info": {
   "codemirror_mode": {
    "name": "ipython",
    "version": 3
   },
   "file_extension": ".py",
   "mimetype": "text/x-python",
   "name": "python",
   "nbconvert_exporter": "python",
   "pygments_lexer": "ipython3",
   "version": "3.8.5"
  },
  "orig_nbformat": 4,
  "vscode": {
   "interpreter": {
    "hash": "7443343fc13dfb4d51bf4023425792615950761096514cd23dc90e7cbd3554e7"
   }
  }
 },
 "nbformat": 4,
 "nbformat_minor": 2
}
