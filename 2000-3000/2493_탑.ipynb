{
 "cells": [
  {
   "cell_type": "code",
   "execution_count": 36,
   "metadata": {},
   "outputs": [
    {
     "name": "stdout",
     "output_type": "stream",
     "text": [
      "0 0 2 2 4 "
     ]
    }
   ],
   "source": [
    "#2493_탑\n",
    "# https://www.acmicpc.net/problem/2493\n",
    "\n",
    "n = int(input())\n",
    "hts = list(map(int,input().split()))\n",
    "\n",
    "ans = []\n",
    "\n",
    "for n,i in enumerate(hts):\n",
    "    if n==0:\n",
    "        ans.append(0)\n",
    "\n",
    "    else:\n",
    "        for j in range(n-1,-1,-1):\n",
    "            if hts[j] > hts[n]:\n",
    "                ans.append(j+1)\n",
    "                break\n",
    "            elif j==0:\n",
    "                ans.append(0)\n",
    "\n",
    "for a in ans:\n",
    "    print(a,end=' ')\n",
    "\n",
    "# 시간초과\n",
    "\n"
   ]
  },
  {
   "cell_type": "code",
   "execution_count": 8,
   "metadata": {},
   "outputs": [
    {
     "name": "stdout",
     "output_type": "stream",
     "text": [
      "h 6\n",
      "0 h 9\n",
      "[[6, 0]]\n",
      "0 h 5\n",
      "[[9, 1]]\n",
      "2 h 7\n",
      "[[9, 1], [5, 2]]\n",
      "2 h 4\n",
      "[[9, 1], [7, 3]]\n",
      "4 "
     ]
    }
   ],
   "source": [
    "import sys\n",
    "r = sys.stdin.readline\n",
    "\n",
    "# 입력 받기\n",
    "n = int(input())\n",
    "t_list = list(map(int,input().split()))\n",
    "answer = []\n",
    "stk = []\n",
    "for i in range(n): # 탑의 수만큼 반복\n",
    "    h = t_list[i]  # 현재 탑의 높이 h\n",
    "    print('h',h)  \n",
    "    if stk:\n",
    "        print(stk)\n",
    "        while stk:\n",
    "            if stk[-1][0] < h :  #현재 탑의 높이가 이전탑보다 크다면 이전 탑 pop\n",
    "                stk.pop()\n",
    "                if not stk:  # 이전탑이 없다면 0 print\n",
    "                    print(0, end=' ')\n",
    "            elif stk[-1][0] > h: # 현재 탑의 높이가 이전탑보다 작다면 이전 탑의 인덱스+1 print\n",
    "                print(stk[-1][1]+1, end=' ')\n",
    "                break\n",
    "            else : \n",
    "                print(stk[-1][1]+1, end=' ')  #현재 탑의 높이가 이전 탑과 같다면 이전탑의 인덱스+1 print\n",
    "                stk.pop()\n",
    "                break\n",
    "        stk.append([h, i]) # 현재 탑의 높이와 인덱스 append\n",
    "    else:\n",
    "        print(0, end=' ')\n",
    "        stk.append([h,i])\n"
   ]
  },
  {
   "cell_type": "code",
   "execution_count": 5,
   "metadata": {},
   "outputs": [
    {
     "name": "stdout",
     "output_type": "stream",
     "text": [
      "[[9, 1], [7, 3], [4, 4]]\n"
     ]
    }
   ],
   "source": [
    "print(stk)"
   ]
  },
  {
   "cell_type": "code",
   "execution_count": null,
   "metadata": {},
   "outputs": [],
   "source": []
  }
 ],
 "metadata": {
  "kernelspec": {
   "display_name": "Python 3.8.5 ('tensorflow')",
   "language": "python",
   "name": "python3"
  },
  "language_info": {
   "codemirror_mode": {
    "name": "ipython",
    "version": 3
   },
   "file_extension": ".py",
   "mimetype": "text/x-python",
   "name": "python",
   "nbconvert_exporter": "python",
   "pygments_lexer": "ipython3",
   "version": "3.8.5"
  },
  "orig_nbformat": 4,
  "vscode": {
   "interpreter": {
    "hash": "7443343fc13dfb4d51bf4023425792615950761096514cd23dc90e7cbd3554e7"
   }
  }
 },
 "nbformat": 4,
 "nbformat_minor": 2
}
